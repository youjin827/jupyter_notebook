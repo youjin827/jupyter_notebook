{
 "cells": [
  {
   "cell_type": "markdown",
   "metadata": {},
   "source": [
    "파싱 : 데이터로부터 필요한 정보 추출하는 과정."
   ]
  },
  {
   "cell_type": "code",
   "execution_count": 1,
   "metadata": {},
   "outputs": [],
   "source": [
    "from bs4 import BeautifulSoup"
   ]
  },
  {
   "cell_type": "code",
   "execution_count": 3,
   "metadata": {},
   "outputs": [
    {
     "name": "stdout",
     "output_type": "stream",
     "text": [
      "<author>Carson</author>\n",
      "Carson\n",
      "<author>Sungchul</author>\n",
      "Sungchul\n"
     ]
    }
   ],
   "source": [
    "with open(\"books.xml\", \"r\", encoding=\"utf8\")as books_file:\n",
    "    books_xml = books_file.read()               # 파일을 문자열로 읽어 오기\n",
    "\n",
    "soup = BeautifulSoup(books_xml, \"lxml\")         # lxml 파서를 사용해 데이터 분석\n",
    "\n",
    "# author가 들어간 모든 요소의 값 추출\n",
    "for book_info in soup.find_all(\"author\"):\n",
    "    print(book_info)\n",
    "    print(book_info.get_text())"
   ]
  },
  {
   "cell_type": "code",
   "execution_count": 5,
   "metadata": {},
   "outputs": [
    {
     "name": "stdout",
     "output_type": "stream",
     "text": [
      "Adjustable shoulder device for hard upper torso suit\n"
     ]
    }
   ],
   "source": [
    "import urllib.request\n",
    "from bs4 import BeautifulSoup\n",
    "\n",
    "with open(\"US08621662-20140107.XML\", \"r\", encoding=\"utf8\") as patent_xml:\n",
    "    xml = patent_xml.read()             # 파일을 문자열로 읽어 오기\n",
    "\n",
    "soup = BeautifulSoup(xml,\"lxml\")        # lxml 파서 호출\n",
    "\n",
    "# invention-title 태그 찾기\n",
    "invention_title_tag = soup.find(\"invention-title\")\n",
    "print(invention_title_tag.get_text())\n"
   ]
  },
  {
   "cell_type": "code",
   "execution_count": null,
   "metadata": {},
   "outputs": [],
   "source": []
  }
 ],
 "metadata": {
  "kernelspec": {
   "display_name": "Python 3",
   "language": "python",
   "name": "python3"
  },
  "language_info": {
   "codemirror_mode": {
    "name": "ipython",
    "version": 3
   },
   "file_extension": ".py",
   "mimetype": "text/x-python",
   "name": "python",
   "nbconvert_exporter": "python",
   "pygments_lexer": "ipython3",
   "version": "3.8.5"
  }
 },
 "nbformat": 4,
 "nbformat_minor": 4
}
