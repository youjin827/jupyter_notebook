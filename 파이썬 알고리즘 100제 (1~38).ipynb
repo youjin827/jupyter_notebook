{
 "cells": [
  {
   "cell_type": "markdown",
   "metadata": {},
   "source": [
    "### 1번"
   ]
  },
  {
   "cell_type": "code",
   "execution_count": 1,
   "metadata": {},
   "outputs": [],
   "source": [
    "nums = [100, 200, 300, 400, 500]"
   ]
  },
  {
   "cell_type": "code",
   "execution_count": 8,
   "metadata": {},
   "outputs": [
    {
     "name": "stdout",
     "output_type": "stream",
     "text": [
      "[100, 200, 300]\n"
     ]
    }
   ],
   "source": [
    "del nums[3:5]\n",
    "print(nums)\n",
    "\n",
    "# pop.nums(3:5) 나 nums.remove(400,500) 도 가능"
   ]
  },
  {
   "cell_type": "markdown",
   "metadata": {},
   "source": [
    "### 2번"
   ]
  },
  {
   "cell_type": "code",
   "execution_count": 12,
   "metadata": {},
   "outputs": [
    {
     "name": "stdout",
     "output_type": "stream",
     "text": [
      "[200, 100, 1000, 300]\n"
     ]
    }
   ],
   "source": [
    "l = [200, 100, 300]\n",
    "l.insert(2, 1000)\n",
    "print(l)"
   ]
  },
  {
   "cell_type": "markdown",
   "metadata": {},
   "source": [
    "### 3번"
   ]
  },
  {
   "cell_type": "code",
   "execution_count": 13,
   "metadata": {},
   "outputs": [
    {
     "name": "stdout",
     "output_type": "stream",
     "text": [
      "<class 'list'>\n"
     ]
    }
   ],
   "source": [
    "l = [100, 200, 300]\n",
    "print(type(l))\n",
    "\n",
    "# l 리스트 자체의 타입을 물어보기 때문에 list."
   ]
  },
  {
   "cell_type": "markdown",
   "metadata": {},
   "source": [
    "### 4"
   ]
  },
  {
   "cell_type": "code",
   "execution_count": 14,
   "metadata": {},
   "outputs": [],
   "source": [
    "# 3번. char = 문자열. str 이 와야함."
   ]
  },
  {
   "cell_type": "markdown",
   "metadata": {},
   "source": [
    "### 5,6"
   ]
  },
  {
   "cell_type": "code",
   "execution_count": 15,
   "metadata": {},
   "outputs": [
    {
     "data": {
      "text/plain": [
       "16"
      ]
     },
     "execution_count": 15,
     "metadata": {},
     "output_type": "execute_result"
    }
   ],
   "source": [
    "5. 4번 16       \n",
    "6. 2번 1 / false=0, true=1"
   ]
  },
  {
   "cell_type": "markdown",
   "metadata": {},
   "source": [
    "7"
   ]
  },
  {
   "cell_type": "code",
   "execution_count": null,
   "metadata": {},
   "outputs": [],
   "source": [
    "# 변수명으로 사용할 수 없는 것\n",
    "as (예약어), 1age (첫글자 숫자.)\n",
    "_age 는 사용가능"
   ]
  },
  {
   "cell_type": "code",
   "execution_count": 20,
   "metadata": {},
   "outputs": [
    {
     "name": "stdout",
     "output_type": "stream",
     "text": [
      "2019/04/26  11:34:27"
     ]
    }
   ],
   "source": [
    "# 9. sep,end 활용\n",
    "\n",
    "year= '2019' \n",
    "month = '04'\n",
    "day = '26'\n",
    "hour = '11'\n",
    "minute = '34'\n",
    "second = '27'\n",
    "\n",
    "print(year, month, day, sep='/', end='  ')\n",
    "print(hour, minute, second, sep=':', end ='')"
   ]
  },
  {
   "cell_type": "code",
   "execution_count": 21,
   "metadata": {},
   "outputs": [
    {
     "name": "stdout",
     "output_type": "stream",
     "text": [
      "몇 줄의 트리를 만들고 싶은가요?: 5\n",
      "    *\n",
      "   ***\n",
      "  *****\n",
      " *******\n",
      "*********\n"
     ]
    }
   ],
   "source": [
    "# 10. 별 찍기\n",
    "\n",
    "b = int(input(\"몇 줄의 트리를 만들고 싶은가요?: \"))\n",
    "\n",
    "for i in range(1, b+1):\n",
    "    print(\" \"*(b-i)+(\"*\"*(2*i-1)))"
   ]
  },
  {
   "cell_type": "code",
   "execution_count": 22,
   "metadata": {},
   "outputs": [
    {
     "name": "stdout",
     "output_type": "stream",
     "text": [
      "5050\n"
     ]
    }
   ],
   "source": [
    "#11.\n",
    "\n",
    "s = 0\n",
    "\n",
    "for i in range(1,101):\n",
    "    s +=i\n",
    "    \n",
    "print(s)"
   ]
  },
  {
   "cell_type": "code",
   "execution_count": 32,
   "metadata": {},
   "outputs": [
    {
     "name": "stdout",
     "output_type": "stream",
     "text": [
      "545 210 10\n",
      "파이어볼\n"
     ]
    }
   ],
   "source": [
    "#12.\n",
    "class Wizard:\n",
    "    def __init__(self, health, mana, armor):\n",
    "        self.health = health\n",
    "        self.mana = mana\n",
    "        self.armor = armor\n",
    " \n",
    "    def attack(self):\n",
    "        print('파이어볼')\n",
    "\n",
    "x = Wizard(health=545, mana=210, armor=10)\n",
    "print(x.health, x.mana, x.armor)\n",
    "x.attack()\n"
   ]
  },
  {
   "cell_type": "code",
   "execution_count": 35,
   "metadata": {},
   "outputs": [
    {
     "name": "stdout",
     "output_type": "stream",
     "text": [
      "몇 번째 행성이 궁금하세요?: 1\n",
      "수성\n"
     ]
    }
   ],
   "source": [
    "#13. 몇 번째 행성인가요?\n",
    "\n",
    "solar = ['수성','금성','지구','화성','목성','토성','천왕성','해왕성']\n",
    "user = int(input(\"몇 번째 행성이 궁금하세요?: \"))\n",
    "\n",
    "print(solar[user-1])"
   ]
  },
  {
   "cell_type": "code",
   "execution_count": 40,
   "metadata": {},
   "outputs": [
    {
     "name": "stdout",
     "output_type": "stream",
     "text": [
      "숫자 입력/그만하고싶을땐 0 : 3\n",
      "짝\n",
      "숫자 입력/그만하고싶을땐 0 : 2\n",
      "2\n",
      "숫자 입력/그만하고싶을땐 0 : 0\n",
      "종료합니다.\n"
     ]
    }
   ],
   "source": [
    "#14. 3의 배수인가요?\n",
    "\n",
    "while True:\n",
    "    yh = int(input(\"숫자 입력/그만하고싶을땐 0 : \"))\n",
    "    if yh%3 == 0 and yh!=0:\n",
    "        print(\"짝\")\n",
    "        \n",
    "    elif yh==0:\n",
    "        print(\"종료합니다.\")\n",
    "        break\n",
    "        \n",
    "    else :\n",
    "        print(yh)"
   ]
  },
  {
   "cell_type": "code",
   "execution_count": 38,
   "metadata": {},
   "outputs": [
    {
     "name": "stdout",
     "output_type": "stream",
     "text": [
      "이름은?: 이유진\n",
      "안녕하세요. 저는 이유진입니다.\n"
     ]
    }
   ],
   "source": [
    "#15. 자기소개\n",
    "\n",
    "name = input(\"이름은?: \")\n",
    "print(\"안녕하세요. 저는 {}입니다.\".format(name))"
   ]
  },
  {
   "cell_type": "code",
   "execution_count": 42,
   "metadata": {},
   "outputs": [
    {
     "name": "stdout",
     "output_type": "stream",
     "text": [
      "문장 입력: 거꾸로\n",
      "로꾸거\n"
     ]
    }
   ],
   "source": [
    "#16. 로꾸거\n",
    "\n",
    "moon = input(\"문장 입력: \")\n",
    "print(moon[::-1])"
   ]
  },
  {
   "cell_type": "code",
   "execution_count": 43,
   "metadata": {},
   "outputs": [
    {
     "name": "stdout",
     "output_type": "stream",
     "text": [
      "키를 입력하세요.:  155\n",
      "YES\n"
     ]
    }
   ],
   "source": [
    "#17. 놀이기구\n",
    "\n",
    "h = int(input(\"키를 입력하세요.:  \"))\n",
    "if h >= 150:\n",
    "    print(\"YES\")\n",
    "else :\n",
    "    print(\"NO\")"
   ]
  },
  {
   "cell_type": "code",
   "execution_count": 47,
   "metadata": {},
   "outputs": [
    {
     "name": "stdout",
     "output_type": "stream",
     "text": [
      "20 30 40\n",
      "90\n"
     ]
    }
   ],
   "source": [
    "#18. 평균 점수\n",
    "\n",
    "data = list(map(int, input().split()))\n",
    "print(int(sum(data)))"
   ]
  },
  {
   "cell_type": "code",
   "execution_count": 49,
   "metadata": {},
   "outputs": [
    {
     "name": "stdout",
     "output_type": "stream",
     "text": [
      "3 2\n",
      "9\n"
     ]
    }
   ],
   "source": [
    "#19. 제곱구하기\n",
    "\n",
    "data = list(map(int, input().split()))\n",
    "print(data[0] ** data[1])"
   ]
  },
  {
   "cell_type": "markdown",
   "metadata": {},
   "source": [
    "## map(함수, iterable) \n",
    "\n",
    "첫 번째 인자에 함수, 두 번째 인자에 반복 가능한(iterable) 자료형을 입력한다.\n",
    "\n",
    "- 함수를 넣는 첫 번째 인자는 def문으로 미리 정의한 함수나 lambda 식을 입력하는 것도 가능하다.\n",
    "\n",
    "- 두 번째 인자의 iterable 데이터는 list, tuple과 같은 반복 가능한 데이터를 의미한다."
   ]
  },
  {
   "cell_type": "code",
   "execution_count": 52,
   "metadata": {},
   "outputs": [
    {
     "name": "stdout",
     "output_type": "stream",
     "text": [
      "10 2\n",
      "몫: 5.0, 나머지: 0\n"
     ]
    }
   ],
   "source": [
    "# 20. 몫과 나머지\n",
    "num = list(map(int,input().split()))\n",
    "print(\"몫: {}, 나머지: {}\".format(num[0]/num[1],num[0]%num[1]))"
   ]
  },
  {
   "cell_type": "code",
   "execution_count": null,
   "metadata": {},
   "outputs": [],
   "source": [
    "# 21. set 만드는 법\n",
    "x = {} 와 같은 형식 안됨!"
   ]
  },
  {
   "cell_type": "code",
   "execution_count": 54,
   "metadata": {},
   "outputs": [
    {
     "name": "stdout",
     "output_type": "stream",
     "text": [
      "5.0\n"
     ]
    }
   ],
   "source": [
    "# 23. \n",
    "print(10/2)\n",
    "  #5.0 으로 나오는 것 알아두기"
   ]
  },
  {
   "cell_type": "code",
   "execution_count": 56,
   "metadata": {},
   "outputs": [
    {
     "name": "stdout",
     "output_type": "stream",
     "text": [
      "이름 입력 : youjin\n",
      "YOUJIN\n"
     ]
    }
   ],
   "source": [
    "#24. 대문자로 바꾸기\n",
    "name = input(\"이름 입력 : \")\n",
    "print(name.upper())\n",
    "\n",
    "#   소문자는 lower. \n",
    "#   불린값으로 소/대문자 구별하려면 isupper/islower"
   ]
  },
  {
   "cell_type": "code",
   "execution_count": 58,
   "metadata": {},
   "outputs": [
    {
     "name": "stdout",
     "output_type": "stream",
     "text": [
      "반지름: 7\n",
      "153.86\n"
     ]
    }
   ],
   "source": [
    "#25. 원의 넓이\n",
    "def solution(n):\n",
    "    return n*n*3.14\n",
    "\n",
    "print(solution(int(input(\"반지름: \"))))"
   ]
  },
  {
   "cell_type": "code",
   "execution_count": 59,
   "metadata": {},
   "outputs": [
    {
     "name": "stdout",
     "output_type": "stream",
     "text": [
      "지구\n",
      "Earth\n"
     ]
    }
   ],
   "source": [
    "#26. 행성문제/ 행성 한글이름 입력 시 영어이름 반환\n",
    "\n",
    "planets = {\n",
    "'수성' : 'Mercury',\n",
    "    '금성' : 'Venus',\n",
    "    '지구' : 'Earth',\n",
    "    '화성' : 'Mars',\n",
    "    '목성' : 'Jupiter',\n",
    "    '토성' : 'Saturn',\n",
    "    '천왕성' : 'Uranus',\n",
    "    '해왕성' : 'Neptune',\n",
    "}\n",
    "\n",
    "name = input()\n",
    "print(planets[name])"
   ]
  },
  {
   "cell_type": "code",
   "execution_count": null,
   "metadata": {},
   "outputs": [],
   "source": [
    "#27. 딕셔너리\n",
    "\n",
    "keys = input().split()\n",
    "values = map(int, input().split())\n",
    "\n",
    "result = dict(zip(keys, values))\n",
    "print(result)\n",
    "\n",
    "# zip() 은 동일한 개수로 이루어진 자료형을 묶어 주는 역할을 하는 함수"
   ]
  },
  {
   "cell_type": "code",
   "execution_count": 63,
   "metadata": {},
   "outputs": [
    {
     "name": "stdout",
     "output_type": "stream",
     "text": [
      "python\n",
      "py\n",
      "yt\n",
      "th\n",
      "ho\n",
      "on\n"
     ]
    }
   ],
   "source": [
    "#28. 2-gram\n",
    "\n",
    "gram = input()\n",
    "for i in range(len(gram)-1):\n",
    "    print(data[i], data[i+1], sep = '')\n",
    "    "
   ]
  },
  {
   "cell_type": "code",
   "execution_count": 66,
   "metadata": {},
   "outputs": [
    {
     "name": "stdout",
     "output_type": "stream",
     "text": [
      "A\n",
      "YES\n"
     ]
    }
   ],
   "source": [
    "#29. 대문자만\n",
    "\n",
    "data = input()\n",
    "\n",
    "if data.isupper():\n",
    "\tprint(\"YES\")\n",
    "else:\n",
    "\tprint(\"NO\")"
   ]
  },
  {
   "cell_type": "code",
   "execution_count": 67,
   "metadata": {},
   "outputs": [
    {
     "name": "stdout",
     "output_type": "stream",
     "text": [
      "pineapple is yummy\n",
      "apple\n",
      "4\n"
     ]
    }
   ],
   "source": [
    "#30. 문자열 속 문자 찾기\n",
    "\n",
    "munjang = input()\n",
    "tofind = input()\n",
    "\n",
    "print(munjang.find(tofind))"
   ]
  },
  {
   "cell_type": "code",
   "execution_count": null,
   "metadata": {},
   "outputs": [],
   "source": [
    "#31. 자료형의 시간 복잡도\n",
    "\n",
    "시간복잡도 = 한마디로 시간이 얼마나 걸리느냐\n",
    "\n",
    " \n",
    "\n",
    "파이썬의 기본 산술 연산들은 O(1)으로 즉각적인 결과가 나타납니다.\n",
    "\n",
    "길이가 n인 리스트를 처음부터 끝까지 요소를 하나씩 출력한다면, print함수를 n번 사용하므로 O(1) x n이므로 O(n)이라고 생각할 수 있습니다. \n",
    "이중 for문은 O(n²), 삼중 for문은 O(n³)과 같은 방식으로 진행됩니다.\n",
    "\n",
    " \n",
    "복잡한 정도는 n의 차수가 올라갈수록 시간복잡도가 높아지고\n",
    "즉 오래걸리는 정도를 의미한다.\n",
    "\n"
   ]
  },
  {
   "cell_type": "code",
   "execution_count": 71,
   "metadata": {},
   "outputs": [
    {
     "name": "stdout",
     "output_type": "stream",
     "text": [
      "저 넓은 세상을 네 눈앞에 그려봐 네 진심을 느껴봐\n",
      "9\n"
     ]
    }
   ],
   "source": [
    "#32. 문자열 만들기\n",
    "\n",
    "howmany = input().strip().split()\n",
    "print(len(howmany))"
   ]
  },
  {
   "cell_type": "code",
   "execution_count": 74,
   "metadata": {},
   "outputs": [
    {
     "name": "stdout",
     "output_type": "stream",
     "text": [
      "1 2 3 4 5\n",
      "5 4 3 2 1 "
     ]
    }
   ],
   "source": [
    "#33. 거꾸로 출력\n",
    "\n",
    "n = input()\n",
    "\n",
    "l = list(n.strip().split())\n",
    "len1 = len(l) - 1\n",
    "for i in range(len1, -1, -1):\n",
    "\tprint(l[i], end=' ')"
   ]
  },
  {
   "cell_type": "code",
   "execution_count": 76,
   "metadata": {},
   "outputs": [
    {
     "name": "stdout",
     "output_type": "stream",
     "text": [
      "176 156 109\n",
      "NO\n"
     ]
    }
   ],
   "source": [
    "#34. sort / 순서정렬 시 yes\n",
    "\n",
    "user_input = input()\n",
    "\n",
    "l = list(user_input.strip().split())\n",
    "l = [int (i) for i in l]\n",
    "\n",
    "if l != sorted(l):\n",
    "\tprint(\"NO\")\n",
    "\t\n",
    "else:\n",
    "\tprint(\"YES\")"
   ]
  },
  {
   "cell_type": "code",
   "execution_count": null,
   "metadata": {},
   "outputs": [],
   "source": [
    "#35. factory\n",
    "\n",
    "def one(n):\n",
    "    def two(value):\n",
    "        sq = value ** n\n",
    "        return sq\n",
    "    return two\n",
    "\n",
    "a = one(2)\n",
    "b = one(3)\n",
    "c = one(4)\n",
    "print(a(10))\n",
    "print(b(10))\n",
    "print(c(10))"
   ]
  },
  {
   "cell_type": "code",
   "execution_count": 79,
   "metadata": {},
   "outputs": [
    {
     "name": "stdout",
     "output_type": "stream",
     "text": [
      "2\n",
      "0 2 4 6 8 10 12 14 16 18 "
     ]
    }
   ],
   "source": [
    "#36. 구구단\n",
    "\n",
    "n = int(input())\n",
    "for i in range(1, 10):\n",
    "\tprint(n*i, end = ' ')"
   ]
  },
  {
   "cell_type": "code",
   "execution_count": 84,
   "metadata": {},
   "outputs": [
    {
     "name": "stdout",
     "output_type": "stream",
     "text": [
      "유진 준 유진 유진\n",
      "유진 가 3 표로 반장이 되었습니다\n"
     ]
    }
   ],
   "source": [
    "#37. count\n",
    "\n",
    "from collections import Counter\n",
    "name_list = input()\n",
    "name_list = name_list.split(' ')\n",
    "name_count =Counter(name_list)\n",
    "a= name_count.most_common(1)\n",
    "print((a[0][0]),\"가\",(a[0][1]),\"표로 반장이 되었습니다\")\n"
   ]
  },
  {
   "cell_type": "code",
   "execution_count": null,
   "metadata": {},
   "outputs": [],
   "source": [
    "#38. \n",
    "# 조건: 1~3 등은 몇명인가? // 조건2 : 동일 점수 인정\n",
    "\n",
    "from collections import Counter\n",
    "score_list = [97,86,75,66,55,97,85,97,97,95]\n",
    "score_list.sort(reverse = True) # 내림 차순으로 정렬\n",
    "\n",
    "count =0 # 몇명에게 사탕을 줘야 하는지\n",
    "c_count =0 # 3등 까지인것을 확인하기 위해\n",
    "\n",
    "for i in range(len(score_list)): #총 리스트수 만큼 for문 돌리기\n",
    "    count +=1 #인원수 계속 증가\n",
    "if score_list[i] != score_list[i+1]: #다음 리스트와 다르다면\n",
    "    c_count +=1 # c_count 를 추가해라\n",
    "else:pass\n",
    "if c_count == 3: # 다음 리스트와 다른게 3번 되면 멈춰라\n",
    "    break\n",
    "print(score_list)\n",
    "print(count)"
   ]
  }
 ],
 "metadata": {
  "kernelspec": {
   "display_name": "Python 3",
   "language": "python",
   "name": "python3"
  },
  "language_info": {
   "codemirror_mode": {
    "name": "ipython",
    "version": 3
   },
   "file_extension": ".py",
   "mimetype": "text/x-python",
   "name": "python",
   "nbconvert_exporter": "python",
   "pygments_lexer": "ipython3",
   "version": "3.8.5"
  }
 },
 "nbformat": 4,
 "nbformat_minor": 4
}
