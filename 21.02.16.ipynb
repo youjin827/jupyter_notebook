{
 "cells": [
  {
   "cell_type": "code",
   "execution_count": 3,
   "metadata": {},
   "outputs": [
    {
     "name": "stdout",
     "output_type": "stream",
     "text": [
      "하이루\n",
      "즐건\n",
      "우이혼\n",
      "\n",
      "하이루\n",
      "즐건\n",
      "우이혼\n",
      "\n",
      "하이루\n",
      "즐건\n",
      "우이혼\n",
      "\n"
     ]
    }
   ],
   "source": [
    "def print_n_times(n=2, *values):\n",
    "    for i in range(n):\n",
    "        \n",
    "        # value는 리스트처럼 활용한다.\n",
    "        \n",
    "        for value in values:\n",
    "            print(value)\n",
    "            \n",
    "        print()\n",
    "        \n",
    "print_n_times(3, \"하이루\", \"즐건\", \"우이혼\")"
   ]
  },
  {
   "cell_type": "code",
   "execution_count": 4,
   "metadata": {},
   "outputs": [
    {
     "name": "stdout",
     "output_type": "stream",
     "text": [
      "하이루\n",
      "즐건\n",
      "우이혼\n",
      "\n",
      "하이루\n",
      "즐건\n",
      "우이혼\n",
      "\n",
      "하이루\n",
      "즐건\n",
      "우이혼\n",
      "\n"
     ]
    }
   ],
   "source": [
    "def print_n_times(*values, n=2):\n",
    "    for i in range(n):\n",
    "        \n",
    "        # value는 리스트처럼 활용한다.\n",
    "        \n",
    "        for value in values:\n",
    "            print(value)\n",
    "            \n",
    "        print()\n",
    "        \n",
    "print_n_times(\"하이루\", \"즐건\", \"우이혼\", n=3)"
   ]
  },
  {
   "cell_type": "code",
   "execution_count": null,
   "metadata": {},
   "outputs": [],
   "source": [
    "def return_test():\n",
    "    return             #아무것도 리턴하지 않기\n",
    "\n"
   ]
  },
  {
   "cell_type": "code",
   "execution_count": null,
   "metadata": {},
   "outputs": [],
   "source": [
    "import random\n",
    "\n",
    "hanguls = list(\"가나다라마바사아자차카타파하\")\n",
    "\n",
    "with open(\"info.txt\",\"w\") as file:\n",
    "    for i in range(1000):\n",
    "        name = random.choice(hanguls) + random.choice(hanguls)\n",
    "        weight= random.randrange(40,100)\n",
    "        height = random.randrange(140,200)\n",
    "        \n",
    "        file.write(\"{},{},{}|n\".format(name, weight, height))"
   ]
  },
  {
   "cell_type": "code",
   "execution_count": 6,
   "metadata": {},
   "outputs": [
    {
     "ename": "IndentationError",
     "evalue": "expected an indented block (<ipython-input-6-6e18c883abd1>, line 3)",
     "output_type": "error",
     "traceback": [
      "\u001b[1;36m  File \u001b[1;32m\"<ipython-input-6-6e18c883abd1>\"\u001b[1;36m, line \u001b[1;32m3\u001b[0m\n\u001b[1;33m    print(\"함수가 호출되었습니다.\")\u001b[0m\n\u001b[1;37m    ^\u001b[0m\n\u001b[1;31mIndentationError\u001b[0m\u001b[1;31m:\u001b[0m expected an indented block\n"
     ]
    }
   ],
   "source": [
    "    #함수를 선언합니다.\n",
    "def test():\n",
    "    print(\"함수가 호출되었습니다.\")\n",
    "    yield \"test\"\n",
    "    \n",
    "    #호출\n",
    "print(\"A 지점 통과\")\n",
    "test()\n",
    "    \n",
    "print(\"B 지점 통과\")\n",
    "test()\n",
    "print(test())"
   ]
  },
  {
   "cell_type": "code",
   "execution_count": 7,
   "metadata": {},
   "outputs": [
    {
     "name": "stdout",
     "output_type": "stream",
     "text": [
      "D 지점 통과\n",
      "A 지점 통과\n",
      "1\n",
      "E 지점 통과\n",
      "B 지점 통과\n",
      "2\n"
     ]
    }
   ],
   "source": [
    "def test():\n",
    "    print(\"A 지점 통과\")\n",
    "    yield 1\n",
    "    print(\"B 지점 통과\")\n",
    "    yield 2\n",
    "    print(\"C 지점 통과\")\n",
    "    \n",
    "    \n",
    "output = test()\n",
    "\n",
    "print(\"D 지점 통과\")\n",
    "a = next(output)\n",
    "print(a)\n",
    "\n",
    "print(\"E 지점 통과\")\n",
    "b = next(output)\n",
    "print(b)"
   ]
  },
  {
   "cell_type": "code",
   "execution_count": 9,
   "metadata": {},
   "outputs": [
    {
     "name": "stdout",
     "output_type": "stream",
     "text": [
      "정수 입력> zip\n",
      "정수를 입력하지 않았습니다.\n",
      "정수 입력> 2\n",
      "원의 반지름: 2\n",
      "원의 둘레: 12.56\n",
      "원의 넓이: 12.56\n"
     ]
    }
   ],
   "source": [
    "while True:\n",
    "    user_input_a = input(\"정수 입력> \")\n",
    "\n",
    "    if user_input_a.isdigit():\n",
    "    \n",
    "        number_input_a = int(user_input_a)\n",
    "    \n",
    "        print(\"원의 반지름:\", number_input_a)\n",
    "        print(\"원의 둘레:\", 2 * 3.14 * number_input_a )\n",
    "        print(\"원의 넓이:\", 3.14 * number_input_a * number_input_a)\n",
    "        break\n",
    "    \n",
    "    else:\n",
    "        print(\"정수를 입력하지 않았습니다.\")\n",
    "        continue"
   ]
  },
  {
   "cell_type": "code",
   "execution_count": 10,
   "metadata": {},
   "outputs": [
    {
     "name": "stdout",
     "output_type": "stream",
     "text": [
      "정수 입력> 7\n",
      "원의 반지름: 7\n",
      "원의 둘레: 43.96\n",
      "원의 넓이: 153.86\n"
     ]
    }
   ],
   "source": [
    "try:\n",
    "    \n",
    "    number_input_a = int(input(\"정수 입력> \"))\n",
    "    \n",
    "    print(\"원의 반지름:\", number_input_a)\n",
    "    print(\"원의 둘레:\", 2 * 3.14 * number_input_a )\n",
    "    print(\"원의 넓이:\", 3.14 * number_input_a * number_input_a)\n",
    "    \n",
    "    \n",
    "except:\n",
    "    print(\"정수를 입력하지 않았습니다.\")"
   ]
  },
  {
   "cell_type": "code",
   "execution_count": 12,
   "metadata": {},
   "outputs": [
    {
     "name": "stdout",
     "output_type": "stream",
     "text": [
      "['52', '273', '32', '스파이', '103'] 내부에 있는 숫자는\n",
      "['52', '273', '32', '103']입니다.\n"
     ]
    }
   ],
   "source": [
    "list_input = [\"52\",\"273\", \"32\", \"스파이\", \"103\"]\n",
    "\n",
    "list_number = []\n",
    "for item in list_input:\n",
    "    try:\n",
    "        float(item)\n",
    "        list_number.append(item)\n",
    "    except:\n",
    "        pass\n",
    "    \n",
    "print(\"{} 내부에 있는 숫자는\".format(list_input))\n",
    "print(\"{}입니다.\".format(list_number))"
   ]
  },
  {
   "cell_type": "code",
   "execution_count": 13,
   "metadata": {},
   "outputs": [
    {
     "name": "stdout",
     "output_type": "stream",
     "text": [
      "현재 시각?\n",
      "2021 년\n",
      "2 월\n",
      "16 일\n",
      "17 시\n",
      "45 분\n",
      "44 초\n",
      "\n",
      "시간 포맷 맞춰 출력하기\n",
      "21.02.16 17:45:44\n",
      "2021년 2월 16일 17시 45분 44초\n",
      "2021년 02월 16일 17시 45분 44초\n",
      "\n"
     ]
    }
   ],
   "source": [
    "import datetime\n",
    "\n",
    "print(\"현재 시각?\")\n",
    "now = datetime.datetime.now()\n",
    "print(now.year, \"년\")\n",
    "print(now.month, \"월\")\n",
    "print(now.day, \"일\")\n",
    "print(now.hour, \"시\")\n",
    "print(now.minute, \"분\")\n",
    "print(now.second, \"초\")\n",
    "print()\n",
    "\n",
    "print(\"시간 포맷 맞춰 출력하기\")\n",
    "output_a=now.strftime(\"%y.%m.%d %H:%M:%S\")\n",
    "output_b = \"{}년 {}월 {}일 {}시 {}분 {}초\".format(now.year,\\\n",
    "now.month,\\\n",
    "now.day,\\\n",
    "now.hour,\\\n",
    "now.minute,\\\n",
    "now.second)\n",
    "output_c = now.strftime(\"%Y{} %m{} %d{} %H{} %M{} %S{}\").format(*\"년월일시분초\")\n",
    "print(output_a)\n",
    "print(output_b)\n",
    "print(output_c)\n",
    "print()"
   ]
  },
  {
   "cell_type": "code",
   "execution_count": null,
   "metadata": {},
   "outputs": [],
   "source": [
    "import time\n",
    "\n",
    "print(\"지금부터 5초 동안 정지\")\n",
    "time.sleep(5)      #5초동안 정지 후 밑 문장 출력\n",
    "print(\"프로그램 종료\")"
   ]
  },
  {
   "cell_type": "code",
   "execution_count": 14,
   "metadata": {},
   "outputs": [
    {
     "name": "stdout",
     "output_type": "stream",
     "text": [
      "b'<!doctype html><html itemscope=\"\" itemtype=\"http://schema.org/WebPage\" lang=\"ko\"><head><meta content=\"text/html; charset=UTF-8\" http-equiv=\"Content-Type\"><meta content=\"/images/branding/googleg/1x/googleg_standard_color_128dp.png\" itemprop=\"image\"><title>Google</title><script nonce=\"EsqsjmCBxZ1vx3/snyKaVg==\">(function(){window.google={kEI:\\'uYcrYK7DLZKymAXVn7foDQ\\',kEXPI:\\'0,1359409,954,5105,206,2414,790,10,1590,925,1391,383,246,5,1354,4919,332,6,1659,676,1120174,1233,1196509,541,328984,51224,16114,28684,9188,8384,4859,1361,284,9006,3021,4747,9213,3628,4020,978,13226,2056,920,873,4192,6430,7432,7095,4517,2778,919,2277,8,2796,1593,1279,2212,530,149,1103,840,518,1521,157,4101,312,1137,2,2063,606,2023,1777,520,4176,93,328,1284,2943,5846,3227,1726,1119,7,5599,6755,5096,7876,4929,108,3407,908,2,941,2614,2397,1387,6081,3277,3,346,230,970,865,4625,148,5991,6323,1661,4,1528,2304,1236,1145,4658,1791,125,4,2763,460,1555,4067,1036,4598,1420,6,2102,3107,286,1753,2658,4242,519,912,564,464,656,30,1303,2551,3233,1042,1644,1640,2215,2305,638,1494,605,2,892,3768,319,2361,55,5429,54,1307,587,11,731,665,652,1493,376,2833,476,2527,479,142,370,1055,908,777,366,15,49,99,2276,696,6,908,3,3363,178,1,4174,1150,693,58,924,2349,306,221,570,928,80,3257,1187,371,256,38,245,700,3646,1941,619,1258,237,299,1,657,2,60,1014,179,941,1423,681,34,367,31,699,2870,4,73,139,249,1116,190,2,77,261,225,550,226,55,176,405,157,823,443,222,2,40,1,70,2,68,397,286,369,372,311,230,26,1331,2,6,1841,914,330,2,227,977,85,3081,1230,489,5690867,3870,35,63,8797948,549,333,444,1,2,80,1,900,896,1,9,2,2551,1,748,141,59,736,563,1,4265,1,1,2,1331,3299,248,595,1,2608,155,17,13,72,46,75,6,23,4,6,30,15,25,1,11,1,23957153,2772894,16070,1221308,267,717,165,2,251\\',kBL:\\'CrIS\\'};google.sn=\\'webhp\\';google.kHL=\\'ko\\';})();(function(){\\ngoogle.h=[];google.g=0;google.getEI=function(a){for(var b;a&&(!a.getAttribute||!(b=a.getAttribute(\"eid\")));)a=a.parentNode;return b||google.kEI};google.getLEI=function(a){for(var b=null;a&&(!a.getAttribute||!(b=a.getAttribute(\"leid\")));)a=a.parentNode;return b};google.ml=function(){return null};google.log=function(a,b,c,d,f){if(c=google.logUrl(a,b,c,d,f)){a=new Image;var e=google.h,g=google.g;e[g]=a;a.onerror=a.onload=a.onabort=function(){delete e[g]};a.src=c;google.g=g+1}};google.logUrl=function(a,b,c,d,f){var e=\"\";c||-1!=b.search(\"&ei=\")||(e=\"&ei=\"+google.getEI(d),-1==b.search(\"&lei=\")&&(d=google.getLEI(d))&&(e+=\"&lei=\"+d));d=\"\";!c&&window._cshid&&-1==b.search(\"&cshid=\")&&\"slh\"!=a&&(d=\"&cshid=\"+window._cshid);c=c||\"/\"+(f||\"gen_204\")+\"?atyp=i&ct=\"+a+\"&cad=\"+b+e+\"&zx=\"+Date.now()+d;/^http:/i.test(c)&&\"https:\"==window.location.protocol&&(google.ml(Error(\"a\"),!1,{src:c,glmm:1}),c=\"\");return c};}).call(this);(function(){google.y={};google.x=function(a,b){if(a)var c=a.id;else{do c=Math.random();while(google.y[c])}google.y[c]=[a,b];return!1};google.lm=[];google.plm=function(a){google.lm.push.apply(google.lm,a)};google.lq=[];google.load=function(a,b,c){google.lq.push([[a],b,c])};google.loadAll=function(a,b){google.lq.push([a,b])};google.bx=!1;google.lx=function(){};}).call(this);google.f={};(function(){\\ndocument.documentElement.addEventListener(\"submit\",function(b){var a;if(a=b.target){var c=a.getAttribute(\"data-submitfalse\");a=\"1\"==c||\"q\"==c&&!a.elements.q.value?!0:!1}else a=!1;a&&(b.preventDefault(),b.stopPropagation())},!0);document.documentElement.addEventListener(\"click\",function(b){var a;a:{for(a=b.target;a&&a!=document.documentElement;a=a.parentElement)if(\"A\"==a.tagName){a=\"1\"==a.getAttribute(\"data-nohref\");break a}a=!1}a&&b.preventDefault()},!0);}).call(this);\\nvar a=window.location,b=a.href.indexOf(\"#\");if(0<=b){var c=a.href.substring(b+1);/(^|&)q=/.test(c)&&-1==c.indexOf(\"#\")&&a.replace(\"/search?\"+c.replace(/(^|&)fp=[^&]*/g,\"\")+\"&cad=h\")};</script><style>#gbar,#guser{font-size:13px;padding-top:1px !important;}#gbar{height:22px}#guser{padding-bottom:7px !important;text-align:right}.gbh,.gbd{border-top:1px solid #c9d7f1;font-size:1px}.gbh{height:0;position:absolute;top:24px;width:100%}@media all{.gb1{height:22px;margin-right:.5em;vertical-align:top}#gbar{float:left}}a.gb1,a.gb4{text-decoration:underline !important}a.gb1,a.gb4{color:#00c !important}.gbi .gb4{color:#dd8e27 !important}.gbf .gb4{color:#900 !important}\\n</style><style>body,td,a,p,.h{font-family:&#44404;&#47548;,&#46027;&#50880;,arial,sans-serif}.ko{font-size:9pt}body{margin:0;overflow-y:scroll}#gog{padding:3px 8px 0}td{line-height:.8em}.gac_m td{line-height:17px}form{margin-bottom:20px}.h{color:#1558d6}em{font-weight:bold;font-style:normal}.lst{height:25px;width:496px}.gsfi,.lst{font:18px arial,sans-serif}.gsfs{font:17px arial,sans-serif}.ds{display:inline-box;display:inline-block;margin:3px 0 4px;margin-left:4px}input{font-family:inherit}body{background:#fff;color:#000}a{color:#4b11a8;text-decoration:none}a:hover,a:active{text-decoration:underline}.fl a{color:#1558d6}a:visited{color:#4b11a8}.sblc{padding-top:5px}.sblc a{display:block;margin:2px 0;margin-left:13px;font-size:11px}.lsbb{background:#f8f9fa;border:solid 1px;border-color:#dadce0 #70757a #70757a #dadce0;height:30px}.lsbb{display:block}#WqQANb a{display:inline-block;margin:0 12px}.lsb{background:url(/images/nav_logo229.png) 0 -261px repeat-x;border:none;color:#000;cursor:pointer;height:30px;margin:0;outline:0;font:15px arial,sans-serif;vertical-align:top}.lsb:active{background:#dadce0}.lst:focus{outline:none}.tiah{width:458px}</style><script nonce=\"EsqsjmCBxZ1vx3/snyKaVg==\"></script></head><body bgcolor=\"#fff\"><script nonce=\"EsqsjmCBxZ1vx3/snyKaVg==\">(function(){var src=\\'/images/nav_logo229.png\\';var iesg=false;document.body.onload = function(){window.n && window.n();if (document.images){new Image().src=src;}\\nif (!iesg){document.f&&document.f.q.focus();document.gbqf&&document.gbqf.q.focus();}\\n}\\n})();</script><div id=\"mngb\"><div id=gbar><nobr><b class=gb1>&#44160;&#49353;</b> <a class=gb1 href=\"https://www.google.co.kr/imghp?hl=ko&tab=wi\">&#51060;&#48120;&#51648;</a> <a class=gb1 href=\"https://maps.google.co.kr/maps?hl=ko&tab=wl\">&#51648;&#46020;</a> <a class=gb1 href=\"https://play.google.com/?hl=ko&tab=w8\">Play</a> <a class=gb1 href=\"https://www.youtube.com/?gl=KR&tab=w1\">YouTube</a> <a class=gb1 href=\"https://news.google.com/?tab=wn\">&#45684;&#49828;</a> <a class=gb1 href=\"https://mail.google.com/mail/?tab=wm\">Gmail</a> <a class=gb1 href=\"https://drive.google.com/?tab=wo\">&#46300;&#46972;&#51060;&#48652;</a> <a class=gb1 style=\"text-decoration:none\" href=\"https://www.google.co.kr/intl/ko/about/products?tab=wh\"><u>&#45908;&#48372;&#44592;</u> &raquo;</a></nobr></div><div id=guser width=100%><nobr><span id=gbn class=gbi></span><span id=gbf class=gbf></span><span id=gbe></span><a href=\"http://www.google.co.kr/history/optout?hl=ko\" class=gb4>&#50937; &#44592;&#47197;</a> | <a  href=\"/preferences?hl=ko\" class=gb4>&#49444;&#51221;</a> | <a target=_top id=gb_70 href=\"https://accounts.google.com/ServiceLogin?hl=ko&passive=true&continue=https://www.google.com/&ec=GAZAAQ\" class=gb4>&#47196;&#44536;&#51064;</a></nobr></div><div class=gbh style=left:0></div><div class=gbh style=right:0></div></div><center><br clear=\"all\" id=\"lgpd\"><div id=\"lga\"><img alt=\"Google\" height=\"92\" src=\"/images/branding/googlelogo/1x/googlelogo_white_background_color_272x92dp.png\" style=\"padding:28px 0 14px\" width=\"272\" id=\"hplogo\"><br><br></div><form action=\"/search\" name=\"f\"><table cellpadding=\"0\" cellspacing=\"0\"><tr valign=\"top\"><td width=\"25%\">&nbsp;</td><td align=\"center\" nowrap=\"\"><input name=\"ie\" value=\"ISO-8859-1\" type=\"hidden\"><input value=\"ko\" name=\"hl\" type=\"hidden\"><input name=\"source\" type=\"hidden\" value=\"hp\"><input name=\"biw\" type=\"hidden\"><input name=\"bih\" type=\"hidden\"><div class=\"ds\" style=\"height:32px;margin:4px 0\"><div style=\"position:relative;zoom:1\"><input class=\"lst tiah\" style=\"margin:0;padding:5px 8px 0 6px;vertical-align:top;color:#000;padding-right:38px\" autocomplete=\"off\" value=\"\" title=\"Google &#44160;&#49353;\" maxlength=\"2048\" name=\"q\" size=\"57\"><img src=\"/textinputassistant/tia.png\" style=\"position:absolute;cursor:pointer;right:5px;top:4px;z-index:300\" data-script-url=\"/textinputassistant/11/ko_tia.js\" id=\"tsuid1\" alt=\"\" height=\"23\" width=\"27\"><script nonce=\"EsqsjmCBxZ1vx3/snyKaVg==\">(function(){var id=\\'tsuid1\\';document.getElementById(id).onclick = function(){var s = document.createElement(\\'script\\');s.src = this.getAttribute(\\'data-script-url\\');(document.getElementById(\\'xjsc\\')||document.body).appendChild(s);};})();</script></div></div><br style=\"line-height:0\"><span class=\"ds\"><span class=\"lsbb\"><input class=\"lsb\" value=\"Google &#44160;&#49353;\" name=\"btnG\" type=\"submit\"></span></span><span class=\"ds\"><span class=\"lsbb\"><input class=\"lsb\" id=\"tsuid2\" value=\"I&#8217;m Feeling Lucky\" name=\"btnI\" type=\"submit\"><script nonce=\"EsqsjmCBxZ1vx3/snyKaVg==\">(function(){var id=\\'tsuid2\\';document.getElementById(id).onclick = function(){if (this.form.q.value){this.checked = 1;if (this.form.iflsig)this.form.iflsig.disabled = false;}\\nelse top.location=\\'/doodles/\\';};})();</script><input value=\"AINFCbYAAAAAYCuVyViwnDXMYGu6y286QSsh-Wx8vleE\" name=\"iflsig\" type=\"hidden\"></span></span></td><td class=\"fl sblc\" align=\"left\" nowrap=\"\" width=\"25%\"><a href=\"/advanced_search?hl=ko&amp;authuser=0\">&#44256;&#44553;&#44160;&#49353;</a></td></tr></table><input id=\"gbv\" name=\"gbv\" type=\"hidden\" value=\"1\"><script nonce=\"EsqsjmCBxZ1vx3/snyKaVg==\">(function(){var a,b=\"1\";if(document&&document.getElementById)if(\"undefined\"!=typeof XMLHttpRequest)b=\"2\";else if(\"undefined\"!=typeof ActiveXObject){var c,d,e=[\"MSXML2.XMLHTTP.6.0\",\"MSXML2.XMLHTTP.3.0\",\"MSXML2.XMLHTTP\",\"Microsoft.XMLHTTP\"];for(c=0;d=e[c++];)try{new ActiveXObject(d),b=\"2\"}catch(h){}}a=b;if(\"2\"==a&&-1==location.search.indexOf(\"&gbv=2\")){var f=google.gbvu,g=document.getElementById(\"gbv\");g&&(g.value=a);f&&window.setTimeout(function(){location.href=f},0)};}).call(this);</script></form><div id=\"gac_scont\"></div><div style=\"font-size:83%;min-height:3.5em\"><br><div id=\"prm\"><style>.szppmdbYutt__middle-slot-promo{font-size:small;margin-bottom:32px}.szppmdbYutt__middle-slot-promo a.ZIeIlb{display:inline-block;text-decoration:none}.szppmdbYutt__middle-slot-promo img{border:none;margin-right:5px;vertical-align:middle}</style><div class=\"szppmdbYutt__middle-slot-promo\" data-ved=\"0ahUKEwjug4i-g-7uAhUSGaYKHdXPDd0QnIcBCAQ\"><a class=\"NKcBbd\" href=\"https://www.google.com/url?q=https://artsandculture.google.com/story/ZQVxOv5SmmRsAw%3Futm_source%3Dgoogle%26utm_medium%3Dhppromo%26utm_campaign%3DYoonDongju&amp;source=hpp&amp;id=19022671&amp;ct=3&amp;usg=AFQjCNF3Y-e5MdSa2wuduIJHWS5OdaWSfA&amp;sa=X&amp;ved=0ahUKEwjug4i-g-7uAhUSGaYKHdXPDd0Q8IcBCAU\" rel=\"nofollow\">&#49884;&#51064; &#50980;&#46041;&#51452;&#51032; &#51064;&#49373;&#51012; &#46308;&#50668;&#45796;&#48372;&#49464;&#50836;</a></div></div></div><span id=\"footer\"><div style=\"font-size:10pt\"><div style=\"margin:19px auto;text-align:center\" id=\"WqQANb\"><a href=\"/intl/ko/ads/\">&#44305;&#44256; &#54532;&#47196;&#44536;&#47016;</a><a href=\"http://www.google.co.kr/intl/ko/services/\">&#48708;&#51592;&#45768;&#49828; &#49556;&#47336;&#49496;</a><a href=\"/intl/ko/about.html\">Google &#51221;&#48372;</a><a href=\"https://www.google.com/setprefdomain?prefdom=KR&amp;prev=https://www.google.co.kr/&amp;sig=K_DsmrA591fRTBrPtqOJcOKTdRLN8%3D\">Google.co.kr</a></div></div><p style=\"font-size:8pt;color:#70757a\">&copy; 2021 - <a href=\"/intl/ko/policies/privacy/\">&#44060;&#51064;&#51221;&#48372;&#52376;&#47532;&#48169;&#52840;</a> - <a href=\"/intl/ko/policies/terms/\">&#50557;&#44288;</a></p></span></center><script nonce=\"EsqsjmCBxZ1vx3/snyKaVg==\">(function(){window.google.cdo={height:0,width:0};(function(){var a=window.innerWidth,b=window.innerHeight;if(!a||!b){var c=window.document,d=\"CSS1Compat\"==c.compatMode?c.documentElement:c.body;a=d.clientWidth;b=d.clientHeight}a&&b&&(a!=google.cdo.width||b!=google.cdo.height)&&google.log(\"\",\"\",\"/client_204?&atyp=i&biw=\"+a+\"&bih=\"+b+\"&ei=\"+google.kEI);}).call(this);})();(function(){var u=\\'/xjs/_/js/k\\\\x3dxjs.hp.en.ZEnXjtuloOI.O/m\\\\x3dsb_he,d/am\\\\x3dAHiCOA/d\\\\x3d1/rs\\\\x3dACT90oE-CB7d4TDa0mGa211Cj8PldFQ14A\\';\\nvar d=this||self,e=/^[\\\\w+/_-]+[=]{0,2}$/,f=null,g=function(a){return(a=a.querySelector&&a.querySelector(\"script[nonce]\"))&&(a=a.nonce||a.getAttribute(\"nonce\"))&&e.test(a)?a:\"\"},h=function(a){return a};var l;var n=function(a,b){this.g=b===m?a:\"\"};n.prototype.toString=function(){return this.g+\"\"};var m={};function p(){var a=u;google.lx=function(){q(a);google.lx=function(){}};google.bx||google.lx()}\\nfunction q(a){var b=document;var c=\"SCRIPT\";\"application/xhtml+xml\"===b.contentType&&(c=c.toLowerCase());c=b.createElement(c);if(void 0===l){b=null;var k=d.trustedTypes;if(k&&k.createPolicy){try{b=k.createPolicy(\"goog#html\",{createHTML:h,createScript:h,createScriptURL:h})}catch(r){d.console&&d.console.error(r.message)}l=b}else l=b}a=(b=l)?b.createScriptURL(a):a;a=new n(a,m);c.src=a instanceof n&&a.constructor===n?a.g:\"type_error:TrustedResourceUrl\";(a=c.ownerDocument&&c.ownerDocument.defaultView)&&\\na!=d?a=g(a.document):(null===f&&(f=g(d.document)),a=f);a&&c.setAttribute(\"nonce\",a);google.timers&&google.timers.load&&google.tick&&google.tick(\"load\",\"xjsls\");document.body.appendChild(c)};setTimeout(function(){p()},0);})();(function(){window.google.xjsu=\\'/xjs/_/js/k\\\\x3dxjs.hp.en.ZEnXjtuloOI.O/m\\\\x3dsb_he,d/am\\\\x3dAHiCOA/d\\\\x3d1/rs\\\\x3dACT90oE-CB7d4TDa0mGa211Cj8PldFQ14A\\';})();function _DumpException(e){throw e;}\\nfunction _F_installCss(c){}\\n(function(){google.jl={dw:false,em:[],emw:false,lls:\\'default\\',pdt:0,snet:true,uwp:true};})();(function(){var pmc=\\'{\\\\x22d\\\\x22:{},\\\\x22sb_he\\\\x22:{\\\\x22agen\\\\x22:true,\\\\x22cgen\\\\x22:true,\\\\x22client\\\\x22:\\\\x22heirloom-hp\\\\x22,\\\\x22dh\\\\x22:true,\\\\x22dhqt\\\\x22:true,\\\\x22ds\\\\x22:\\\\x22\\\\x22,\\\\x22ffql\\\\x22:\\\\x22ko\\\\x22,\\\\x22fl\\\\x22:true,\\\\x22host\\\\x22:\\\\x22google.com\\\\x22,\\\\x22isbh\\\\x22:28,\\\\x22jsonp\\\\x22:true,\\\\x22msgs\\\\x22:{\\\\x22cibl\\\\x22:\\\\x22&#44160;&#49353;&#50612; &#51648;&#50864;&#44592;\\\\x22,\\\\x22dym\\\\x22:\\\\x22&#51060;&#44163;&#51012; &#52286;&#51004;&#49512;&#45208;&#50836;?\\\\x22,\\\\x22lcky\\\\x22:\\\\x22I&#8217;m Feeling Lucky\\\\x22,\\\\x22lml\\\\x22:\\\\x22&#51088;&#49464;&#55176; &#50508;&#50500;&#48372;&#44592;\\\\x22,\\\\x22oskt\\\\x22:\\\\x22&#51077;&#47141; &#46020;&#44396;\\\\x22,\\\\x22psrc\\\\x22:\\\\x22&#44160;&#49353;&#50612;&#44032; \\\\\\\\u003Ca href\\\\x3d\\\\\\\\\\\\x22/history\\\\\\\\\\\\x22\\\\\\\\u003E&#50937; &#44592;&#47197;\\\\\\\\u003C/a\\\\\\\\u003E&#50640;&#49436; &#49325;&#51228;&#46104;&#50632;&#49845;&#45768;&#45796;.\\\\x22,\\\\x22psrl\\\\x22:\\\\x22&#49325;&#51228;\\\\x22,\\\\x22sbit\\\\x22:\\\\x22&#51060;&#48120;&#51648;&#47196; &#44160;&#49353;\\\\x22,\\\\x22srch\\\\x22:\\\\x22Google &#44160;&#49353;\\\\x22},\\\\x22nrft\\\\x22:false,\\\\x22ovr\\\\x22:{},\\\\x22pq\\\\x22:\\\\x22\\\\x22,\\\\x22refpd\\\\x22:true,\\\\x22refspre\\\\x22:true,\\\\x22rfs\\\\x22:[],\\\\x22sbas\\\\x22:\\\\x220 3px 8px 0 rgba(0,0,0,0.2),0 0 0 1px rgba(0,0,0,0.08)\\\\x22,\\\\x22sbpl\\\\x22:16,\\\\x22sbpr\\\\x22:16,\\\\x22scd\\\\x22:10,\\\\x22stok\\\\x22:\\\\x22N89zPWjcjAGzp6-5kW9kaGqzwvc\\\\x22,\\\\x22uhde\\\\x22:false}}\\';google.pmc=JSON.parse(pmc);})();</script>        </body></html>'\n"
     ]
    }
   ],
   "source": [
    "# url 다루는 라이브러리\n",
    "\n",
    "from urllib import request\n",
    "\n",
    "target = request.urlopen(\"https://google.com\")   #url 주소 페이지 열기\n",
    "output = target.read()\n",
    "\n",
    "print(output)"
   ]
  },
  {
   "cell_type": "markdown",
   "metadata": {},
   "source": [
    "# 외부모듈"
   ]
  },
  {
   "cell_type": "markdown",
   "metadata": {},
   "source": [
    "### BeautifulSoup 웹페이지 분석 모듈"
   ]
  },
  {
   "cell_type": "code",
   "execution_count": 16,
   "metadata": {},
   "outputs": [
    {
     "name": "stdout",
     "output_type": "stream",
     "text": [
      "도시: 서울\n",
      "날씨: 맑음\n",
      "최저기온: -5\n",
      "최고기온: 9\n",
      "\n",
      "도시: 인천\n",
      "날씨: 맑음\n",
      "최저기온: -3\n",
      "최고기온: 8\n",
      "\n",
      "도시: 수원\n",
      "날씨: 맑음\n",
      "최저기온: -6\n",
      "최고기온: 10\n",
      "\n",
      "도시: 파주\n",
      "날씨: 맑음\n",
      "최저기온: -9\n",
      "최고기온: 9\n",
      "\n",
      "도시: 이천\n",
      "날씨: 맑음\n",
      "최저기온: -8\n",
      "최고기온: 10\n",
      "\n",
      "도시: 평택\n",
      "날씨: 맑음\n",
      "최저기온: -6\n",
      "최고기온: 10\n",
      "\n",
      "도시: 춘천\n",
      "날씨: 맑음\n",
      "최저기온: -9\n",
      "최고기온: 7\n",
      "\n",
      "도시: 원주\n",
      "날씨: 맑음\n",
      "최저기온: -7\n",
      "최고기온: 8\n",
      "\n",
      "도시: 강릉\n",
      "날씨: 맑음\n",
      "최저기온: 0\n",
      "최고기온: 12\n",
      "\n",
      "도시: 대전\n",
      "날씨: 맑음\n",
      "최저기온: -6\n",
      "최고기온: 10\n",
      "\n",
      "도시: 세종\n",
      "날씨: 맑음\n",
      "최저기온: -7\n",
      "최고기온: 9\n",
      "\n",
      "도시: 홍성\n",
      "날씨: 맑음\n",
      "최저기온: -7\n",
      "최고기온: 9\n",
      "\n",
      "도시: 청주\n",
      "날씨: 맑음\n",
      "최저기온: -5\n",
      "최고기온: 10\n",
      "\n",
      "도시: 충주\n",
      "날씨: 맑음\n",
      "최저기온: -9\n",
      "최고기온: 9\n",
      "\n",
      "도시: 영동\n",
      "날씨: 맑음\n",
      "최저기온: -9\n",
      "최고기온: 11\n",
      "\n",
      "도시: 광주\n",
      "날씨: 맑음\n",
      "최저기온: -3\n",
      "최고기온: 11\n",
      "\n",
      "도시: 목포\n",
      "날씨: 맑음\n",
      "최저기온: 0\n",
      "최고기온: 10\n",
      "\n",
      "도시: 여수\n",
      "날씨: 맑음\n",
      "최저기온: -1\n",
      "최고기온: 10\n",
      "\n",
      "도시: 순천\n",
      "날씨: 맑음\n",
      "최저기온: -2\n",
      "최고기온: 12\n",
      "\n",
      "도시: 광양\n",
      "날씨: 맑음\n",
      "최저기온: -2\n",
      "최고기온: 12\n",
      "\n",
      "도시: 나주\n",
      "날씨: 맑음\n",
      "최저기온: -6\n",
      "최고기온: 11\n",
      "\n",
      "도시: 전주\n",
      "날씨: 맑음\n",
      "최저기온: -5\n",
      "최고기온: 11\n",
      "\n",
      "도시: 군산\n",
      "날씨: 맑음\n",
      "최저기온: -5\n",
      "최고기온: 9\n",
      "\n",
      "도시: 정읍\n",
      "날씨: 맑음\n",
      "최저기온: -4\n",
      "최고기온: 10\n",
      "\n",
      "도시: 남원\n",
      "날씨: 맑음\n",
      "최저기온: -7\n",
      "최고기온: 10\n",
      "\n",
      "도시: 고창\n",
      "날씨: 맑음\n",
      "최저기온: -5\n",
      "최고기온: 10\n",
      "\n",
      "도시: 무주\n",
      "날씨: 맑음\n",
      "최저기온: -9\n",
      "최고기온: 10\n",
      "\n",
      "도시: 부산\n",
      "날씨: 맑음\n",
      "최저기온: -2\n",
      "최고기온: 11\n",
      "\n",
      "도시: 울산\n",
      "날씨: 맑음\n",
      "최저기온: -3\n",
      "최고기온: 12\n",
      "\n",
      "도시: 창원\n",
      "날씨: 맑음\n",
      "최저기온: -3\n",
      "최고기온: 11\n",
      "\n",
      "도시: 진주\n",
      "날씨: 맑음\n",
      "최저기온: -7\n",
      "최고기온: 12\n",
      "\n",
      "도시: 거창\n",
      "날씨: 맑음\n",
      "최저기온: -9\n",
      "최고기온: 12\n",
      "\n",
      "도시: 통영\n",
      "날씨: 맑음\n",
      "최저기온: -2\n",
      "최고기온: 11\n",
      "\n",
      "도시: 대구\n",
      "날씨: 맑음\n",
      "최저기온: -4\n",
      "최고기온: 13\n",
      "\n",
      "도시: 안동\n",
      "날씨: 맑음\n",
      "최저기온: -8\n",
      "최고기온: 10\n",
      "\n",
      "도시: 포항\n",
      "날씨: 맑음\n",
      "최저기온: -2\n",
      "최고기온: 13\n",
      "\n",
      "도시: 경주\n",
      "날씨: 맑음\n",
      "최저기온: -5\n",
      "최고기온: 13\n",
      "\n",
      "도시: 울진\n",
      "날씨: 맑음\n",
      "최저기온: -1\n",
      "최고기온: 13\n",
      "\n",
      "도시: 울릉도\n",
      "날씨: 맑음\n",
      "최저기온: 1\n",
      "최고기온: 11\n",
      "\n",
      "도시: 제주\n",
      "날씨: 맑음\n",
      "최저기온: 3\n",
      "최고기온: 13\n",
      "\n",
      "도시: 서귀포\n",
      "날씨: 맑음\n",
      "최저기온: 3\n",
      "최고기온: 13\n",
      "\n"
     ]
    }
   ],
   "source": [
    "from urllib import request\n",
    "from bs4 import BeautifulSoup\n",
    "\n",
    "target = request.urlopen(\"http://www.kma.go.kr/weather/forecast/mid-term-rss3.jsp?stnId=108\")\n",
    "\n",
    "soup = BeautifulSoup(target, \"html.parser\")\n",
    "\n",
    "for location in soup.select(\"location\"):\n",
    "    print(\"도시:\", location.select_one(\"city\").string)\n",
    "    print(\"날씨:\", location.select_one(\"wf\").string)\n",
    "    print(\"최저기온:\", location.select_one(\"tmn\").string)\n",
    "    print(\"최고기온:\", location.select_one(\"tmx\").string)\n",
    "    print()"
   ]
  },
  {
   "cell_type": "code",
   "execution_count": null,
   "metadata": {},
   "outputs": [],
   "source": []
  }
 ],
 "metadata": {
  "kernelspec": {
   "display_name": "Python 3",
   "language": "python",
   "name": "python3"
  },
  "language_info": {
   "codemirror_mode": {
    "name": "ipython",
    "version": 3
   },
   "file_extension": ".py",
   "mimetype": "text/x-python",
   "name": "python",
   "nbconvert_exporter": "python",
   "pygments_lexer": "ipython3",
   "version": "3.8.5"
  }
 },
 "nbformat": 4,
 "nbformat_minor": 4
}
