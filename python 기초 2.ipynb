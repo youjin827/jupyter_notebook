{
 "cells": [
  {
   "cell_type": "code",
   "execution_count": 4,
   "metadata": {},
   "outputs": [
    {
     "name": "stdout",
     "output_type": "stream",
     "text": [
      "0\n",
      "1\n",
      "2\n",
      "3\n",
      "4\n",
      "6\n",
      "7\n",
      "8\n",
      "9\n",
      "End of Program\n"
     ]
    }
   ],
   "source": [
    "for i in range(10):\n",
    "    if i==5: continue      #5일때 출력하지않음\n",
    "    print(i)\n",
    "print(\"End of Program\")"
   ]
  },
  {
   "cell_type": "code",
   "execution_count": 5,
   "metadata": {},
   "outputs": [
    {
     "name": "stdout",
     "output_type": "stream",
     "text": [
      "구구단 몇 단을 출력할까?: 7\n",
      "구구단 %단을 계산한다. 7\n",
      "7 * 1 = 7\n",
      "7 * 2 = 14\n",
      "7 * 3 = 21\n",
      "7 * 4 = 28\n",
      "7 * 5 = 35\n",
      "7 * 6 = 42\n",
      "7 * 7 = 49\n",
      "7 * 8 = 56\n",
      "7 * 9 = 63\n"
     ]
    }
   ],
   "source": [
    "dan=int(input(\"구구단 몇 단을 출력할까?: \"))\n",
    "print(\"구구단 %단을 계산한다.\",dan)\n",
    "for i in range (1,10):\n",
    "    print(dan,\"*\",i,\"=\",dan*i)"
   ]
  },
  {
   "cell_type": "code",
   "execution_count": 6,
   "metadata": {},
   "outputs": [
    {
     "name": "stdout",
     "output_type": "stream",
     "text": [
      "uoY evoL I\n"
     ]
    }
   ],
   "source": [
    "sentence = \"I Love You\"\n",
    "reverse=''\n",
    "for char in sentence:\n",
    "    reverse=char+reverse\n",
    "print(reverse)"
   ]
  },
  {
   "cell_type": "code",
   "execution_count": 7,
   "metadata": {},
   "outputs": [
    {
     "name": "stdout",
     "output_type": "stream",
     "text": [
      "1010\n"
     ]
    }
   ],
   "source": [
    "decimal = 10\n",
    "result=''\n",
    "while (decimal > 0):\n",
    "    remainder = decimal%2\n",
    "    decimal = decimal // 2\n",
    "    result=str(remainder) + result\n",
    "print(result)"
   ]
  },
  {
   "cell_type": "code",
   "execution_count": 1,
   "metadata": {},
   "outputs": [
    {
     "name": "stdout",
     "output_type": "stream",
     "text": [
      "숫자를 맞혀 보세요.(1~100): 49\n",
      "49\n",
      "숫자가 너무 작습니다.\n",
      "숫자를 맞혀 보세요.(1~100): 60\n",
      "숫자가 너무 큽니다.\n",
      "숫자를 맞혀 보세요.(1~100): 5\n",
      "숫자가 너무 작습니다.\n",
      "숫자를 맞혀 보세요.(1~100): 55\n",
      "숫자가 너무 큽니다.\n",
      "숫자를 맞혀 보세요.(1~100): 53\n",
      "정답입니다. 입력한 숫자는 53 입니다.\n"
     ]
    }
   ],
   "source": [
    "import random \n",
    "ran = random.randint(1,100)\n",
    "n=int(input(\"숫자를 맞혀 보세요.(1~100): \"))\n",
    "print(n)\n",
    "\n",
    "while n is not ran:\n",
    "    if ran > n :\n",
    "        print(\"숫자가 너무 작습니다.\")\n",
    "    elif ran < n:\n",
    "        print(\"숫자가 너무 큽니다.\")\n",
    "    n=int(input(\"숫자를 맞혀 보세요.(1~100): \"))\n",
    "\n",
    "print(\"정답입니다. 입력한 숫자는\" , n , \"입니다.\")\n"
   ]
  },
  {
   "cell_type": "code",
   "execution_count": 13,
   "metadata": {},
   "outputs": [
    {
     "name": "stdout",
     "output_type": "stream",
     "text": [
      "구구단 몇 단을 계산할까요?: 6\n",
      "6 *  1 = 6\n",
      "6 *  2 = 12\n",
      "6 *  3 = 18\n",
      "6 *  4 = 24\n",
      "6 *  5 = 30\n",
      "6 *  6 = 36\n",
      "6 *  7 = 42\n",
      "6 *  8 = 48\n",
      "6 *  9 = 54\n",
      "end\n",
      "구구단 몇 단을 계산할까요?: 0\n",
      "종료합니다.\n"
     ]
    }
   ],
   "source": [
    "while True:\n",
    "    user=int(input(\"구구단 몇 단을 계산할까요?: \"))\n",
    "    if user==0:\n",
    "         print(\"종료합니다.\")\n",
    "         break                          \n",
    "             \n",
    "    for i in range(1,10,1):\n",
    "        print(user,\"* \",i ,\"=\",user*i)\n",
    "    else:\n",
    "        print(\"end\")\n"
   ]
  },
  {
   "cell_type": "code",
   "execution_count": 16,
   "metadata": {},
   "outputs": [
    {
     "name": "stdout",
     "output_type": "stream",
     "text": [
      "밑변의 길이는? 40\n",
      "윗변의 길이는? 80\n",
      "높이는? 20\n",
      "넓이는: 1200.0\n"
     ]
    }
   ],
   "source": [
    "def addition(x,y):\n",
    "    return x+y\n",
    "\n",
    "def divided_by_2(x):\n",
    "    return x/2\n",
    "\n",
    "def main():\n",
    "    base_line = float(input(\"밑변의 길이는? \"))\n",
    "    upper_edge = float(input(\"윗변의 길이는? \"))\n",
    "    height = float(input(\"높이는? \"))\n",
    "    \n",
    "    print(\"넓이는:\", divided_by_2(addition(base_line, upper_edge)*height))\n",
    "    \n",
    "\n",
    "if __name__ == '__main__':\n",
    "    main()"
   ]
  },
  {
   "cell_type": "markdown",
   "metadata": {},
   "source": [
    "stack overflow 에서 파이썬의 모든 오류 다 찾아볼 수 있고 해결할 수 있따~!!\n",
    "개발자들의 지식인같은 느낌!\n"
   ]
  },
  {
   "cell_type": "code",
   "execution_count": 17,
   "metadata": {},
   "outputs": [
    {
     "name": "stdout",
     "output_type": "stream",
     "text": [
      "사각형 x의 길이: 10\n",
      "사각형 y의 길이: 20\n",
      "사각형의 넓이: 200\n"
     ]
    }
   ],
   "source": [
    "def calculate_rectangle_area(x,y):\n",
    "    return x*y\n",
    "\n",
    "rectangle_x=10\n",
    "rectangle_y=20\n",
    "print(\"사각형 x의 길이:\",rectangle_x)\n",
    "print(\"사각형 y의 길이:\",rectangle_y)\n",
    "\n",
    "print(\"사각형의 넓이:\", calculate_rectangle_area(rectangle_x,rectangle_y))"
   ]
  },
  {
   "cell_type": "code",
   "execution_count": 18,
   "metadata": {},
   "outputs": [
    {
     "name": "stdout",
     "output_type": "stream",
     "text": [
      "151\n"
     ]
    }
   ],
   "source": [
    "def f(x):\n",
    "    return 2*x+7\n",
    "def g(x):\n",
    "    return x**2\n",
    "x=2\n",
    "print(f(x)+g(x)+f(g(x))+g(f(x)))"
   ]
  },
  {
   "cell_type": "code",
   "execution_count": 19,
   "metadata": {},
   "outputs": [
    {
     "name": "stdout",
     "output_type": "stream",
     "text": [
      "[0, 1]\n"
     ]
    }
   ],
   "source": [
    "def spam(eggs):\n",
    "    eggs.append(1)\n",
    "    \n",
    "    eggs=[2,3]\n",
    "    \n",
    "ham=[0]\n",
    "spam(ham)\n",
    "print(ham)"
   ]
  },
  {
   "cell_type": "code",
   "execution_count": 21,
   "metadata": {},
   "outputs": [
    {
     "ename": "SyntaxError",
     "evalue": "invalid syntax (<ipython-input-21-8cab33baa5cb>, line 3)",
     "output_type": "error",
     "traceback": [
      "\u001b[1;36m  File \u001b[1;32m\"<ipython-input-21-8cab33baa5cb>\"\u001b[1;36m, line \u001b[1;32m3\u001b[0m\n\u001b[1;33m    global t=20\u001b[0m\n\u001b[1;37m            ^\u001b[0m\n\u001b[1;31mSyntaxError\u001b[0m\u001b[1;31m:\u001b[0m invalid syntax\n"
     ]
    }
   ],
   "source": [
    "def test(t):\n",
    "    print(t)\n",
    "    t=20\n",
    "    print(\"In Function:\",t)\n",
    "    \n",
    "x=10\n",
    "test(x)\n",
    "print(\"In Main:\",x)\n",
    "print(\"In Main:\",t)"
   ]
  },
  {
   "cell_type": "code",
   "execution_count": 22,
   "metadata": {},
   "outputs": [
    {
     "name": "stdout",
     "output_type": "stream",
     "text": [
      "I love London\n",
      "I love London\n"
     ]
    }
   ],
   "source": [
    "def f():\n",
    "    global s\n",
    "    s = \"I love London\"\n",
    "    print(s)\n",
    "    \n",
    "s = \"I love Paris\"\n",
    "f()\n",
    "print(s)\n",
    "    "
   ]
  },
  {
   "cell_type": "code",
   "execution_count": 25,
   "metadata": {},
   "outputs": [
    {
     "name": "stdout",
     "output_type": "stream",
     "text": [
      "In Program - 1\n",
      "a: 5 b: 7 a+b: 12\n",
      "In Function\n",
      "a: 5 b: 7 a+b: 12 total: 12\n",
      "After Calculataion\n",
      "Total: 0 sum: 12\n"
     ]
    }
   ],
   "source": [
    "def calculate(x, y):\n",
    "    total=x+y        #total 은 지역 변수가 됨\n",
    "    print(\"In Function\")\n",
    "    print(\"a:\",str(a),\"b:\",str(b),\"a+b:\",str(a+b),\"total:\",str(total))\n",
    "    return total\n",
    "    \n",
    "a=5\n",
    "b=7\n",
    "total=0\n",
    "print(\"In Program - 1\")\n",
    "print(\"a:\",str(a), \"b:\",str(b), \"a+b:\",str(a+b))\n",
    "\n",
    "sum = calculate (a,b)\n",
    "print(\"After Calculataion\")\n",
    "print(\"Total:\",str(total),\"sum:\",str(sum))  #지역변수는 전역변수에 영향 안줌"
   ]
  },
  {
   "cell_type": "code",
   "execution_count": 26,
   "metadata": {},
   "outputs": [
    {
     "name": "stdout",
     "output_type": "stream",
     "text": [
      "Input Number for Factorial Calculation: 4\n",
      "24\n"
     ]
    }
   ],
   "source": [
    "def factorial(n):\n",
    "    if n==1:\n",
    "        return 1\n",
    "    else :\n",
    "        return n * factorial(n-1)\n",
    "    \n",
    "print(factorial(int(input(\"Input Number for Factorial Calculation: \"))))\n"
   ]
  },
  {
   "cell_type": "code",
   "execution_count": 29,
   "metadata": {},
   "outputs": [
    {
     "ename": "TypeError",
     "evalue": "'int' object is not callable",
     "output_type": "error",
     "traceback": [
      "\u001b[1;31m---------------------------------------------------------------------------\u001b[0m",
      "\u001b[1;31mTypeError\u001b[0m                                 Traceback (most recent call last)",
      "\u001b[1;32m<ipython-input-29-8cf0ac3d953c>\u001b[0m in \u001b[0;36m<module>\u001b[1;34m\u001b[0m\n\u001b[0;32m      5\u001b[0m     \u001b[1;32mreturn\u001b[0m \u001b[0ma\u001b[0m \u001b[1;33m+\u001b[0m \u001b[0mb\u001b[0m \u001b[1;33m+\u001b[0m \u001b[0msum\u001b[0m\u001b[1;33m(\u001b[0m\u001b[0margs\u001b[0m\u001b[1;33m)\u001b[0m\u001b[1;33m\u001b[0m\u001b[1;33m\u001b[0m\u001b[0m\n\u001b[0;32m      6\u001b[0m \u001b[1;33m\u001b[0m\u001b[0m\n\u001b[1;32m----> 7\u001b[1;33m \u001b[0mprint\u001b[0m\u001b[1;33m(\u001b[0m\u001b[0masterisk_test\u001b[0m\u001b[1;33m(\u001b[0m\u001b[1;36m1\u001b[0m\u001b[1;33m,\u001b[0m\u001b[1;36m2\u001b[0m\u001b[1;33m,\u001b[0m\u001b[1;36m3\u001b[0m\u001b[1;33m,\u001b[0m\u001b[1;36m4\u001b[0m\u001b[1;33m,\u001b[0m\u001b[1;36m5\u001b[0m\u001b[1;33m)\u001b[0m\u001b[1;33m)\u001b[0m\u001b[1;33m\u001b[0m\u001b[1;33m\u001b[0m\u001b[0m\n\u001b[0m",
      "\u001b[1;32m<ipython-input-29-8cf0ac3d953c>\u001b[0m in \u001b[0;36masterisk_test\u001b[1;34m(a, b, *args)\u001b[0m\n\u001b[0;32m      3\u001b[0m \u001b[1;33m\u001b[0m\u001b[0m\n\u001b[0;32m      4\u001b[0m \u001b[1;32mdef\u001b[0m \u001b[0masterisk_test\u001b[0m\u001b[1;33m(\u001b[0m\u001b[0ma\u001b[0m\u001b[1;33m,\u001b[0m\u001b[0mb\u001b[0m\u001b[1;33m,\u001b[0m\u001b[1;33m*\u001b[0m\u001b[0margs\u001b[0m\u001b[1;33m)\u001b[0m\u001b[1;33m:\u001b[0m\u001b[1;33m\u001b[0m\u001b[1;33m\u001b[0m\u001b[0m\n\u001b[1;32m----> 5\u001b[1;33m     \u001b[1;32mreturn\u001b[0m \u001b[0ma\u001b[0m \u001b[1;33m+\u001b[0m \u001b[0mb\u001b[0m \u001b[1;33m+\u001b[0m \u001b[0msum\u001b[0m\u001b[1;33m(\u001b[0m\u001b[0margs\u001b[0m\u001b[1;33m)\u001b[0m\u001b[1;33m\u001b[0m\u001b[1;33m\u001b[0m\u001b[0m\n\u001b[0m\u001b[0;32m      6\u001b[0m \u001b[1;33m\u001b[0m\u001b[0m\n\u001b[0;32m      7\u001b[0m \u001b[0mprint\u001b[0m\u001b[1;33m(\u001b[0m\u001b[0masterisk_test\u001b[0m\u001b[1;33m(\u001b[0m\u001b[1;36m1\u001b[0m\u001b[1;33m,\u001b[0m\u001b[1;36m2\u001b[0m\u001b[1;33m,\u001b[0m\u001b[1;36m3\u001b[0m\u001b[1;33m,\u001b[0m\u001b[1;36m4\u001b[0m\u001b[1;33m,\u001b[0m\u001b[1;36m5\u001b[0m\u001b[1;33m)\u001b[0m\u001b[1;33m)\u001b[0m\u001b[1;33m\u001b[0m\u001b[1;33m\u001b[0m\u001b[0m\n",
      "\u001b[1;31mTypeError\u001b[0m: 'int' object is not callable"
     ]
    }
   ],
   "source": [
    "a=0\n",
    "b=0\n",
    "\n",
    "def asterisk_test(a,b,*args):\n",
    "    return a + b + sum(args)\n",
    "\n",
    "print(asterisk_test(1,2,3,4,5))   #위에서 변수 설정 같게해서 오류 나는거임"
   ]
  },
  {
   "cell_type": "code",
   "execution_count": 30,
   "metadata": {},
   "outputs": [
    {
     "name": "stdout",
     "output_type": "stream",
     "text": [
      "{'first': 3, 'second': 4, 'third': 5}\n",
      "First value is 3\n",
      "Second value is 4\n",
      "Third value is 5\n"
     ]
    }
   ],
   "source": [
    "def kwargs_test(**kwargs):\n",
    "    print(kwargs)\n",
    "    print(\"First value is {first}\".format(**kwargs))\n",
    "    print(\"Second value is {second}\".format(**kwargs))\n",
    "    print(\"Third value is {third}\".format(**kwargs))  #개별 변수로 풀려 함수에 들어갈 수 있다.\n",
    "    \n",
    "kwargs_test(first=3,second=4,third=5)"
   ]
  },
  {
   "cell_type": "code",
   "execution_count": null,
   "metadata": {},
   "outputs": [],
   "source": []
  }
 ],
 "metadata": {
  "kernelspec": {
   "display_name": "Python 3",
   "language": "python",
   "name": "python3"
  },
  "language_info": {
   "codemirror_mode": {
    "name": "ipython",
    "version": 3
   },
   "file_extension": ".py",
   "mimetype": "text/x-python",
   "name": "python",
   "nbconvert_exporter": "python",
   "pygments_lexer": "ipython3",
   "version": "3.8.5"
  }
 },
 "nbformat": 4,
 "nbformat_minor": 4
}
