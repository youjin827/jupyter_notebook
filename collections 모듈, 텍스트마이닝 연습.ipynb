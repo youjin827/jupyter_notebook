{
 "cells": [
  {
   "cell_type": "code",
   "execution_count": 1,
   "metadata": {},
   "outputs": [
    {
     "name": "stdout",
     "output_type": "stream",
     "text": [
      "50 51 52\n"
     ]
    }
   ],
   "source": [
    "import sys\n",
    "print(sys.getsizeof(\"a\"),sys.getsizeof(\"ab\"),sys.getsizeof(\"abc\"))"
   ]
  },
  {
   "cell_type": "code",
   "execution_count": 2,
   "metadata": {},
   "outputs": [
    {
     "data": {
      "text/plain": [
       "[1, 2, 3, 4, 5, 10]"
      ]
     },
     "execution_count": 2,
     "metadata": {},
     "output_type": "execute_result"
    }
   ],
   "source": [
    "a=[1,2,3,4,5]\n",
    "a.append(10)\n",
    "a"
   ]
  },
  {
   "cell_type": "code",
   "execution_count": 3,
   "metadata": {},
   "outputs": [
    {
     "data": {
      "text/plain": [
       "10"
      ]
     },
     "execution_count": 3,
     "metadata": {},
     "output_type": "execute_result"
    }
   ],
   "source": [
    "a.pop()"
   ]
  },
  {
   "cell_type": "code",
   "execution_count": 4,
   "metadata": {},
   "outputs": [
    {
     "data": {
      "text/plain": [
       "5"
      ]
     },
     "execution_count": 4,
     "metadata": {},
     "output_type": "execute_result"
    }
   ],
   "source": [
    "a.pop()"
   ]
  },
  {
   "cell_type": "code",
   "execution_count": 5,
   "metadata": {},
   "outputs": [
    {
     "data": {
      "text/plain": [
       "[1, 2, 3, 4]"
      ]
     },
     "execution_count": 5,
     "metadata": {},
     "output_type": "execute_result"
    }
   ],
   "source": [
    "a"
   ]
  },
  {
   "cell_type": "code",
   "execution_count": 9,
   "metadata": {},
   "outputs": [
    {
     "name": "stdout",
     "output_type": "stream",
     "text": [
      "Input a word: wasabi\n",
      "['w', 'a', 's', 'a', 'b', 'i']\n",
      "['i', 'b', 'a', 's', 'a', 'w']\n",
      "ibasaw\n"
     ]
    }
   ],
   "source": [
    "word=input(\"Input a word: \")\n",
    "world_list = list(word)\n",
    "print(world_list)\n",
    "\n",
    "result = []\n",
    "for _ in range(len(world_list)):\n",
    "    result.append(world_list.pop())\n",
    "    \n",
    "print(result)\n",
    "print(word[::-1])"
   ]
  },
  {
   "cell_type": "code",
   "execution_count": 10,
   "metadata": {},
   "outputs": [
    {
     "name": "stdout",
     "output_type": "stream",
     "text": [
      "(1, 2, 3, 1, 2, 3) (1, 2, 3, 1, 2, 3)\n"
     ]
    },
    {
     "data": {
      "text/plain": [
       "3"
      ]
     },
     "execution_count": 10,
     "metadata": {},
     "output_type": "execute_result"
    }
   ],
   "source": [
    "t = (1,2,3)\n",
    "print(t+t, t*2)\n",
    "\n",
    "len(t)"
   ]
  },
  {
   "cell_type": "markdown",
   "metadata": {},
   "source": [
    "## 딕셔너리"
   ]
  },
  {
   "cell_type": "code",
   "execution_count": 13,
   "metadata": {},
   "outputs": [
    {
     "data": {
      "text/plain": [
       "dict_keys(['America', 'Korea', 'China', 'Japan'])"
      ]
     },
     "execution_count": 13,
     "metadata": {},
     "output_type": "execute_result"
    }
   ],
   "source": [
    "country_code={}\n",
    "country_code={\"America\":1, \"Korea\":82, \"China\":86, \"Japan\":81}\n",
    "country_code\n",
    "\n",
    "country_code.keys()"
   ]
  },
  {
   "cell_type": "markdown",
   "metadata": {},
   "source": [
    "## deque 모듈"
   ]
  },
  {
   "cell_type": "code",
   "execution_count": 15,
   "metadata": {},
   "outputs": [
    {
     "name": "stdout",
     "output_type": "stream",
     "text": [
      "deque([4, 3, 2, 1, 0])\n"
     ]
    }
   ],
   "source": [
    "from collections import deque\n",
    "\n",
    "deque_list = deque()\n",
    "for i in range(5):\n",
    "    deque_list.appendleft(i)   #거꾸로~\n",
    "    \n",
    "print(deque_list)"
   ]
  },
  {
   "cell_type": "code",
   "execution_count": 16,
   "metadata": {},
   "outputs": [
    {
     "name": "stdout",
     "output_type": "stream",
     "text": [
      "deque([1, 0, 4, 3, 2])\n"
     ]
    }
   ],
   "source": [
    "deque_list.rotate(2)   #3,4 값이 두 칸씩 이동.\n",
    "print(deque_list)"
   ]
  },
  {
   "cell_type": "markdown",
   "metadata": {},
   "source": [
    "## OrderedDict 모듈\n"
   ]
  },
  {
   "cell_type": "code",
   "execution_count": 17,
   "metadata": {},
   "outputs": [
    {
     "name": "stdout",
     "output_type": "stream",
     "text": [
      "X 100\n",
      "l 500\n",
      "y 200\n",
      "z 300\n"
     ]
    }
   ],
   "source": [
    "d = {}\n",
    "d['X']=100\n",
    "d['l']=500\n",
    "d['y']=200\n",
    "d['z']=300\n",
    "\n",
    "for k,v in d.items():\n",
    "    print(k,v)\n",
    "    "
   ]
  },
  {
   "cell_type": "markdown",
   "metadata": {},
   "source": [
    "## collecions 모듈"
   ]
  },
  {
   "cell_type": "code",
   "execution_count": 20,
   "metadata": {},
   "outputs": [
    {
     "name": "stdout",
     "output_type": "stream",
     "text": [
      "dict_items([('yellow', [1, 3]), ('blue', [2, 4]), ('red', [1])])\n"
     ]
    },
    {
     "data": {
      "text/plain": [
       "[('blue', [2, 4]), ('red', [1]), ('yellow', [1, 3])]"
      ]
     },
     "execution_count": 20,
     "metadata": {},
     "output_type": "execute_result"
    }
   ],
   "source": [
    "from collections import defaultdict\n",
    "d = defaultdict(list)\n",
    "s= [('yellow',1), ('blue',2), ('yellow',3), ('blue',4), ('red',1)]\n",
    "for k,v in s:\n",
    "    d[k].append(v)\n",
    "    \n",
    "print(d.items())\n",
    "[('blue',[2,4]),('red',[1]),('yellow',[1,3])]"
   ]
  },
  {
   "cell_type": "code",
   "execution_count": 22,
   "metadata": {
    "scrolled": true
   },
   "outputs": [
    {
     "data": {
      "text/plain": [
       "['g', 'a', 'l', 'l', 'a', 'h', 'a', 'd']"
      ]
     },
     "execution_count": 22,
     "metadata": {},
     "output_type": "execute_result"
    }
   ],
   "source": [
    "from collections import Counter\n",
    "\n",
    "text=list(\"gallahad\")\n",
    "text"
   ]
  },
  {
   "cell_type": "code",
   "execution_count": 24,
   "metadata": {},
   "outputs": [
    {
     "data": {
      "text/plain": [
       "Counter({'g': 1, 'a': 3, 'l': 2, 'h': 1, 'd': 1})"
      ]
     },
     "execution_count": 24,
     "metadata": {},
     "output_type": "execute_result"
    }
   ],
   "source": [
    "c = Counter(text)  #같은 값이 몇 개 있는지\n",
    "c"
   ]
  },
  {
   "cell_type": "code",
   "execution_count": 25,
   "metadata": {},
   "outputs": [
    {
     "name": "stdout",
     "output_type": "stream",
     "text": [
      "Counter({'dogs': 8, 'cats': 4})\n"
     ]
    }
   ],
   "source": [
    "from collections import Counter\n",
    "\n",
    "c = Counter(cats=4, dogs=8)\n",
    "\n",
    "print(c)  #dogs가 갯수 더 많아서 먼저출력"
   ]
  },
  {
   "cell_type": "code",
   "execution_count": 26,
   "metadata": {},
   "outputs": [
    {
     "name": "stdout",
     "output_type": "stream",
     "text": [
      "['cats', 'cats', 'cats', 'cats', 'dogs', 'dogs', 'dogs', 'dogs', 'dogs', 'dogs', 'dogs', 'dogs']\n"
     ]
    }
   ],
   "source": [
    "print(list(c.elements())) # c에 cats 부터 들어가있어서 cat부터출력"
   ]
  },
  {
   "cell_type": "code",
   "execution_count": 27,
   "metadata": {},
   "outputs": [
    {
     "data": {
      "text/plain": [
       "Counter({'a': 3, 'b': 0, 'c': -3, 'd': -6})"
      ]
     },
     "execution_count": 27,
     "metadata": {},
     "output_type": "execute_result"
    }
   ],
   "source": [
    "from collections import Counter\n",
    "\n",
    "c=Counter(a=4, b=2, c=0, d=-2)\n",
    "d=Counter(a=1, b=2, c=3, d=4)\n",
    "c.subtract(d)\n",
    "c"
   ]
  },
  {
   "cell_type": "markdown",
   "metadata": {},
   "source": [
    "## 텍스트 마이닝 프로그램"
   ]
  },
  {
   "cell_type": "code",
   "execution_count": 29,
   "metadata": {},
   "outputs": [
    {
     "name": "stdout",
     "output_type": "stream",
     "text": [
      "전기차 6\n",
      "신차 2\n",
      "등록된 2\n",
      "감소한 2\n",
      "데이터연구소 1\n",
      "카이즈유에 1\n",
      "따르면 1\n",
      "1월 1\n",
      "대수는 1\n",
      "전월(3205대) 1\n",
      "대비 1\n",
      "81% 1\n",
      "줄어든 1\n",
      "615대로 1\n",
      "집계됐고 1\n",
      "지난해 1\n",
      "1월과 1\n",
      "비교해도 1\n",
      "31% 1\n",
      "것으로 1\n",
      "나타났다. 1\n",
      "국토교통부에 1\n",
      "대수(15만 1\n",
      "5253대·전년비 1\n",
      "10.4% 1\n",
      "증가)와 1\n",
      "비교해 1\n",
      "판매가 1\n",
      "크게 1\n",
      "것이다. 1\n",
      "개별소비세 1\n",
      "인하는 1\n",
      "연장됐지만 1\n",
      "보조금 1\n",
      "정책이 1\n",
      "확정되지 1\n",
      "않아 1\n",
      "구매를 1\n",
      "미룬 1\n",
      "이들이 1\n",
      "많았던 1\n",
      "때문으로 1\n",
      "풀이된다. 1\n",
      "또, 1\n",
      "새로운 1\n",
      "모델 1\n",
      "출시 1\n",
      "계획에 1\n",
      "따라 1\n",
      "매수 1\n",
      "수요가 1\n",
      "일부 1\n",
      "이연된 1\n",
      "것도 1\n",
      "이유로 1\n",
      "꼽힌다.한편 1\n",
      "이날 1\n",
      "오전 1\n",
      "현대차그룹은 1\n",
      "애플과의 1\n",
      "생산 1\n",
      "협업과 1\n",
      "관련한 1\n",
      "해명 1\n",
      "공시를 1\n",
      "게시했다. 1\n",
      "올해 1\n",
      "자동차 1\n",
      "산업에서 1\n",
      "‘전기차’가 1\n",
      "화두인 1\n",
      "만큼 1\n",
      "시장 1\n",
      "참여자들의 1\n",
      "관심이 1\n",
      "집중됐다. 1\n"
     ]
    }
   ],
   "source": [
    "text=\"\"\"데이터연구소 카이즈유에 따르면 1월 신차 등록된 전기차 대수는 전월(3205대) 대비 81% 줄어든 615대로 집계됐고 지난해 1월과 비교해도 31% 감소한 것으로 나타났다. 국토교통부에 등록된 신차 대수(15만 5253대·전년비 10.4% 증가)와 비교해 전기차 판매가 크게 감소한 것이다.\n",
    "개별소비세 인하는 연장됐지만 전기차 보조금 정책이 확정되지 않아 전기차 구매를 미룬 이들이 많았던 때문으로 풀이된다. 또, 새로운 전기차 모델 출시 계획에 따라 매수 수요가 일부 이연된 것도 이유로 꼽힌다.한편 이날 오전 현대차그룹은 애플과의 전기차 생산 협업과 관련한 해명 공시를 게시했다. 올해 자동차 산업에서 ‘전기차’가 화두인 만큼 시장 참여자들의 관심이 집중됐다.\n",
    "\"\"\".lower().split()\n",
    "\n",
    "from collections import defaultdict\n",
    "\n",
    "word_count=defaultdict(lambda:0)\n",
    "for word in text :\n",
    "    word_count[word]+=1\n",
    "    \n",
    "from collections import OrderedDict\n",
    "for i ,v in OrderedDict(sorted(word_count.items(),key=lambda t:t[1],reverse=True)).items():\n",
    "    print(i,v)\n",
    "\n"
   ]
  },
  {
   "cell_type": "markdown",
   "metadata": {},
   "source": []
  }
 ],
 "metadata": {
  "kernelspec": {
   "display_name": "Python 3",
   "language": "python",
   "name": "python3"
  },
  "language_info": {
   "codemirror_mode": {
    "name": "ipython",
    "version": 3
   },
   "file_extension": ".py",
   "mimetype": "text/x-python",
   "name": "python",
   "nbconvert_exporter": "python",
   "pygments_lexer": "ipython3",
   "version": "3.8.5"
  }
 },
 "nbformat": 4,
 "nbformat_minor": 4
}
